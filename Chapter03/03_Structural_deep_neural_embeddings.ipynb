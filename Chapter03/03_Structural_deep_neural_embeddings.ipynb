{
 "cells": [
  {
   "cell_type": "markdown",
   "metadata": {},
   "source": [
    "# 스펙트럼 딥 네트워크 임베딩"
   ]
  },
  {
   "cell_type": "code",
   "execution_count": 1,
   "metadata": {},
   "outputs": [
    {
     "name": "stderr",
     "output_type": "stream",
     "text": [
      "Using TensorFlow backend.\n"
     ]
    }
   ],
   "source": [
    "# tensorflow==1.15 사용\n",
    "from gem.embedding.sdne import SDNE"
   ]
  },
  {
   "cell_type": "code",
   "execution_count": 2,
   "metadata": {},
   "outputs": [],
   "source": [
    "import networkx as nx"
   ]
  },
  {
   "cell_type": "code",
   "execution_count": 3,
   "metadata": {},
   "outputs": [],
   "source": [
    "graph = nx.karate_club_graph()"
   ]
  },
  {
   "cell_type": "code",
   "execution_count": 4,
   "metadata": {},
   "outputs": [],
   "source": [
    "m1 = SDNE(d=2, beta=5, alpha=1e-5, nu1=1e-6, nu2=1e-6, K=3,n_units=[50, 15,], rho=0.3, n_iter=10, \n",
    "          xeta=0.01,n_batch=50,\n",
    "          modelfile=['enc_model.json', 'dec_model.json'],\n",
    "          weightfile=['enc_weights.hdf5', 'dec_weights.hdf5'])"
   ]
  },
  {
   "cell_type": "code",
   "execution_count": 5,
   "metadata": {},
   "outputs": [
    {
     "name": "stdout",
     "output_type": "stream",
     "text": [
      "WARNING:tensorflow:From C:\\ProgramData\\Anaconda3\\envs\\Graph_ML\\lib\\site-packages\\keras\\backend\\tensorflow_backend.py:47: The name tf.get_default_graph is deprecated. Please use tf.compat.v1.get_default_graph instead.\n",
      "\n",
      "WARNING:tensorflow:From C:\\ProgramData\\Anaconda3\\envs\\Graph_ML\\lib\\site-packages\\keras\\backend\\tensorflow_backend.py:349: The name tf.placeholder is deprecated. Please use tf.compat.v1.placeholder instead.\n",
      "\n",
      "WARNING:tensorflow:From C:\\ProgramData\\Anaconda3\\envs\\Graph_ML\\lib\\site-packages\\keras\\backend\\tensorflow_backend.py:3145: The name tf.random_uniform is deprecated. Please use tf.random.uniform instead.\n",
      "\n",
      "WARNING:tensorflow:From C:\\ProgramData\\Anaconda3\\envs\\Graph_ML\\lib\\site-packages\\keras\\backend\\tensorflow_backend.py:1044: calling reduce_sum_v1 (from tensorflow.python.ops.math_ops) with keep_dims is deprecated and will be removed in a future version.\n",
      "Instructions for updating:\n",
      "keep_dims is deprecated, use keepdims instead\n",
      "WARNING:tensorflow:From C:\\ProgramData\\Anaconda3\\envs\\Graph_ML\\lib\\site-packages\\keras\\optimizers.py:675: The name tf.train.Optimizer is deprecated. Please use tf.compat.v1.train.Optimizer instead.\n",
      "\n"
     ]
    },
    {
     "name": "stderr",
     "output_type": "stream",
     "text": [
      "C:\\ProgramData\\Anaconda3\\envs\\Graph_ML\\lib\\site-packages\\gem\\embedding\\sdne_utils.py:71: UserWarning: Update your `Dense` call to the Keras 2 API: `Dense(50, activation=\"relu\", kernel_regularizer=<keras.reg...)`\n",
      "  W_regularizer=Reg.l1_l2(l1=nu1, l2=nu2))(y[i])\n",
      "C:\\ProgramData\\Anaconda3\\envs\\Graph_ML\\lib\\site-packages\\gem\\embedding\\sdne_utils.py:71: UserWarning: Update your `Dense` call to the Keras 2 API: `Dense(15, activation=\"relu\", kernel_regularizer=<keras.reg...)`\n",
      "  W_regularizer=Reg.l1_l2(l1=nu1, l2=nu2))(y[i])\n",
      "C:\\ProgramData\\Anaconda3\\envs\\Graph_ML\\lib\\site-packages\\gem\\embedding\\sdne_utils.py:73: UserWarning: Update your `Dense` call to the Keras 2 API: `Dense(2, activation=\"relu\", kernel_regularizer=<keras.reg...)`\n",
      "  W_regularizer=Reg.l1_l2(l1=nu1, l2=nu2))(y[K - 1])\n",
      "C:\\ProgramData\\Anaconda3\\envs\\Graph_ML\\lib\\site-packages\\gem\\embedding\\sdne_utils.py:75: UserWarning: Update your `Model` call to the Keras 2 API: `Model(inputs=Tensor(\"in..., outputs=Tensor(\"de...)`\n",
      "  encoder = Model(input=x, output=y[K])\n",
      "C:\\ProgramData\\Anaconda3\\envs\\Graph_ML\\lib\\site-packages\\gem\\embedding\\sdne_utils.py:90: UserWarning: Update your `Dense` call to the Keras 2 API: `Dense(15, activation=\"relu\", kernel_regularizer=<keras.reg...)`\n",
      "  W_regularizer=Reg.l1_l2(l1=nu1, l2=nu2))(y_hat[i + 1])\n",
      "C:\\ProgramData\\Anaconda3\\envs\\Graph_ML\\lib\\site-packages\\gem\\embedding\\sdne_utils.py:90: UserWarning: Update your `Dense` call to the Keras 2 API: `Dense(50, activation=\"relu\", kernel_regularizer=<keras.reg...)`\n",
      "  W_regularizer=Reg.l1_l2(l1=nu1, l2=nu2))(y_hat[i + 1])\n",
      "C:\\ProgramData\\Anaconda3\\envs\\Graph_ML\\lib\\site-packages\\gem\\embedding\\sdne_utils.py:92: UserWarning: Update your `Dense` call to the Keras 2 API: `Dense(34, activation=\"relu\", kernel_regularizer=<keras.reg...)`\n",
      "  W_regularizer=Reg.l1_l2(l1=nu1, l2=nu2))(y_hat[1])\n",
      "C:\\ProgramData\\Anaconda3\\envs\\Graph_ML\\lib\\site-packages\\gem\\embedding\\sdne_utils.py:96: UserWarning: Update your `Model` call to the Keras 2 API: `Model(inputs=Tensor(\"in..., outputs=Tensor(\"de...)`\n",
      "  decoder = Model(input=y, output=x_hat)\n",
      "C:\\ProgramData\\Anaconda3\\envs\\Graph_ML\\lib\\site-packages\\gem\\embedding\\sdne_utils.py:108: UserWarning: Update your `Model` call to the Keras 2 API: `Model(inputs=Tensor(\"in..., outputs=[<tf.Tenso...)`\n",
      "  autoencoder = Model(input=x, output=[x_hat, y])\n",
      "C:\\ProgramData\\Anaconda3\\envs\\Graph_ML\\lib\\site-packages\\gem\\embedding\\sdne.py:115: UserWarning: The `merge` function is deprecated and will be removed after 08/2017. Use instead layers from `keras.layers.merge`, e.g. `add`, `concatenate`, etc.\n",
      "  output_shape=lambda L: L[1])\n",
      "C:\\ProgramData\\Anaconda3\\envs\\Graph_ML\\lib\\site-packages\\keras\\legacy\\layers.py:456: UserWarning: The `Merge` layer is deprecated and will be removed after 08/2017. Use instead layers from `keras.layers.merge`, e.g. `add`, `concatenate`, etc.\n",
      "  name=name)\n",
      "C:\\ProgramData\\Anaconda3\\envs\\Graph_ML\\lib\\site-packages\\gem\\embedding\\sdne.py:118: UserWarning: The `merge` function is deprecated and will be removed after 08/2017. Use instead layers from `keras.layers.merge`, e.g. `add`, `concatenate`, etc.\n",
      "  output_shape=lambda L: L[1])\n",
      "C:\\ProgramData\\Anaconda3\\envs\\Graph_ML\\lib\\site-packages\\gem\\embedding\\sdne.py:121: UserWarning: The `merge` function is deprecated and will be removed after 08/2017. Use instead layers from `keras.layers.merge`, e.g. `add`, `concatenate`, etc.\n",
      "  output_shape=lambda L: L[1])\n",
      "C:\\ProgramData\\Anaconda3\\envs\\Graph_ML\\lib\\site-packages\\gem\\embedding\\sdne.py:147: UserWarning: Update your `Model` call to the Keras 2 API: `Model(inputs=Tensor(\"x_..., outputs=[<tf.Tenso...)`\n",
      "  self._model = Model(input=x_in, output=[x_diff1, x_diff2, y_diff])\n",
      "C:\\ProgramData\\Anaconda3\\envs\\Graph_ML\\lib\\site-packages\\gem\\embedding\\sdne.py:160: UserWarning: The semantics of the Keras 2 argument  `steps_per_epoch` is not the same as the Keras 1 argument `samples_per_epoch`. `steps_per_epoch` is the number of batches to draw from the generator at each epoch. Update your method calls accordingly.\n",
      "  verbose=1\n",
      "C:\\ProgramData\\Anaconda3\\envs\\Graph_ML\\lib\\site-packages\\gem\\embedding\\sdne.py:160: UserWarning: Update your `fit_generator` call to the Keras 2 API: `fit_generator(generator=<generator..., verbose=1, steps_per_epoch=3, epochs=10)`\n",
      "  verbose=1\n"
     ]
    },
    {
     "name": "stdout",
     "output_type": "stream",
     "text": [
      "WARNING:tensorflow:Variable *= will be deprecated. Use `var.assign(var * other)` if you want assignment to the variable value or `x = x * y` if you want a new python Tensor object.\n",
      "WARNING:tensorflow:From C:\\ProgramData\\Anaconda3\\envs\\Graph_ML\\lib\\site-packages\\keras\\backend\\tensorflow_backend.py:766: The name tf.assign_add is deprecated. Please use tf.compat.v1.assign_add instead.\n",
      "\n",
      "WARNING:tensorflow:From C:\\ProgramData\\Anaconda3\\envs\\Graph_ML\\lib\\site-packages\\keras\\backend\\tensorflow_backend.py:519: calling Constant.__init__ (from tensorflow.python.ops.init_ops) with dtype is deprecated and will be removed in a future version.\n",
      "Instructions for updating:\n",
      "Call initializer instance with the dtype argument instead of passing it to the constructor\n",
      "WARNING:tensorflow:From C:\\ProgramData\\Anaconda3\\envs\\Graph_ML\\lib\\site-packages\\keras\\backend\\tensorflow_backend.py:762: The name tf.assign is deprecated. Please use tf.compat.v1.assign instead.\n",
      "\n",
      "Epoch 1/10\n",
      "WARNING:tensorflow:From C:\\ProgramData\\Anaconda3\\envs\\Graph_ML\\lib\\site-packages\\keras\\backend\\tensorflow_backend.py:140: The name tf.get_default_session is deprecated. Please use tf.compat.v1.get_default_session instead.\n",
      "\n",
      "WARNING:tensorflow:From C:\\ProgramData\\Anaconda3\\envs\\Graph_ML\\lib\\site-packages\\keras\\backend\\tensorflow_backend.py:145: The name tf.ConfigProto is deprecated. Please use tf.compat.v1.ConfigProto instead.\n",
      "\n",
      "WARNING:tensorflow:From C:\\ProgramData\\Anaconda3\\envs\\Graph_ML\\lib\\site-packages\\keras\\backend\\tensorflow_backend.py:150: The name tf.Session is deprecated. Please use tf.compat.v1.Session instead.\n",
      "\n",
      "WARNING:tensorflow:From C:\\ProgramData\\Anaconda3\\envs\\Graph_ML\\lib\\site-packages\\keras\\backend\\tensorflow_backend.py:298: The name tf.global_variables is deprecated. Please use tf.compat.v1.global_variables instead.\n",
      "\n",
      "WARNING:tensorflow:From C:\\ProgramData\\Anaconda3\\envs\\Graph_ML\\lib\\site-packages\\keras\\backend\\tensorflow_backend.py:306: The name tf.variables_initializer is deprecated. Please use tf.compat.v1.variables_initializer instead.\n",
      "\n",
      "3/3 [==============================] - 0s - loss: 40.4783 - merge_1_loss: 20.0410 - merge_2_loss: 20.4331 - merge_3_loss: 1.2507     \n",
      "Epoch 2/10\n",
      "3/3 [==============================] - 0s - loss: 31.8477 - merge_1_loss: 15.8778 - merge_2_loss: 15.9658 - merge_3_loss: 0.0205     \n",
      "Epoch 3/10\n",
      "3/3 [==============================] - 0s - loss: 20.3191 - merge_1_loss: 10.2053 - merge_2_loss: 10.1096 - merge_3_loss: 8.7878e-05     \n",
      "Epoch 4/10\n",
      "3/3 [==============================] - 0s - loss: 18.5309 - merge_1_loss: 9.2583 - merge_2_loss: 9.2681 - merge_3_loss: 0.0000e+00      \n",
      "Epoch 5/10\n",
      "3/3 [==============================] - 0s - loss: 15.3842 - merge_1_loss: 7.6688 - merge_2_loss: 7.7106 - merge_3_loss: 0.0000e+00     \n",
      "Epoch 6/10\n",
      "3/3 [==============================] - 0s - loss: 12.9417 - merge_1_loss: 6.5119 - merge_2_loss: 6.4247 - merge_3_loss: 0.0000e+00     \n",
      "Epoch 7/10\n",
      "3/3 [==============================] - 0s - loss: 12.6639 - merge_1_loss: 6.3191 - merge_2_loss: 6.3393 - merge_3_loss: 0.0000e+00     \n",
      "Epoch 8/10\n",
      "3/3 [==============================] - 0s - loss: 12.3204 - merge_1_loss: 6.1288 - merge_2_loss: 6.1857 - merge_3_loss: 0.0000e+00     \n",
      "Epoch 9/10\n",
      "3/3 [==============================] - 0s - loss: 25.3893 - merge_1_loss: 13.1073 - merge_2_loss: 12.2755 - merge_3_loss: 0.0000e+00   \n",
      "Epoch 10/10\n",
      "3/3 [==============================] - 0s - loss: 18.3791 - merge_1_loss: 9.1306 - merge_2_loss: 9.2415 - merge_3_loss: 0.0000e+00      \n"
     ]
    },
    {
     "data": {
      "text/plain": [
       "(array([[0., 0.],\n",
       "        [0., 0.],\n",
       "        [0., 0.],\n",
       "        [0., 0.],\n",
       "        [0., 0.],\n",
       "        [0., 0.],\n",
       "        [0., 0.],\n",
       "        [0., 0.],\n",
       "        [0., 0.],\n",
       "        [0., 0.],\n",
       "        [0., 0.],\n",
       "        [0., 0.],\n",
       "        [0., 0.],\n",
       "        [0., 0.],\n",
       "        [0., 0.],\n",
       "        [0., 0.],\n",
       "        [0., 0.],\n",
       "        [0., 0.],\n",
       "        [0., 0.],\n",
       "        [0., 0.],\n",
       "        [0., 0.],\n",
       "        [0., 0.],\n",
       "        [0., 0.],\n",
       "        [0., 0.],\n",
       "        [0., 0.],\n",
       "        [0., 0.],\n",
       "        [0., 0.],\n",
       "        [0., 0.],\n",
       "        [0., 0.],\n",
       "        [0., 0.],\n",
       "        [0., 0.],\n",
       "        [0., 0.],\n",
       "        [0., 0.],\n",
       "        [0., 0.]], dtype=float32),\n",
       " 1.08925461769104)"
      ]
     },
     "execution_count": 5,
     "metadata": {},
     "output_type": "execute_result"
    }
   ],
   "source": [
    "m1.learn_embedding(graph)"
   ]
  },
  {
   "cell_type": "code",
   "execution_count": 6,
   "metadata": {},
   "outputs": [],
   "source": [
    "m1 = SDNE(d=2, beta=5, alpha=1e-5, nu1=1e-6, nu2=1e-6, K=3,n_units=[50, 15,], rho=0.3, n_iter=50, \n",
    "          xeta=0.01,n_batch=100,\n",
    "          modelfile=['enc_model.json', 'dec_model.json'],\n",
    "          weightfile=['enc_weights.hdf5', 'dec_weights.hdf5'])"
   ]
  },
  {
   "cell_type": "code",
   "execution_count": 7,
   "metadata": {
    "scrolled": true
   },
   "outputs": [
    {
     "name": "stderr",
     "output_type": "stream",
     "text": [
      "C:\\ProgramData\\Anaconda3\\envs\\Graph_ML\\lib\\site-packages\\gem\\embedding\\sdne_utils.py:71: UserWarning: Update your `Dense` call to the Keras 2 API: `Dense(50, activation=\"relu\", kernel_regularizer=<keras.reg...)`\n",
      "  W_regularizer=Reg.l1_l2(l1=nu1, l2=nu2))(y[i])\n",
      "C:\\ProgramData\\Anaconda3\\envs\\Graph_ML\\lib\\site-packages\\gem\\embedding\\sdne_utils.py:71: UserWarning: Update your `Dense` call to the Keras 2 API: `Dense(15, activation=\"relu\", kernel_regularizer=<keras.reg...)`\n",
      "  W_regularizer=Reg.l1_l2(l1=nu1, l2=nu2))(y[i])\n",
      "C:\\ProgramData\\Anaconda3\\envs\\Graph_ML\\lib\\site-packages\\gem\\embedding\\sdne_utils.py:73: UserWarning: Update your `Dense` call to the Keras 2 API: `Dense(2, activation=\"relu\", kernel_regularizer=<keras.reg...)`\n",
      "  W_regularizer=Reg.l1_l2(l1=nu1, l2=nu2))(y[K - 1])\n",
      "C:\\ProgramData\\Anaconda3\\envs\\Graph_ML\\lib\\site-packages\\gem\\embedding\\sdne_utils.py:75: UserWarning: Update your `Model` call to the Keras 2 API: `Model(inputs=Tensor(\"in..., outputs=Tensor(\"de...)`\n",
      "  encoder = Model(input=x, output=y[K])\n",
      "C:\\ProgramData\\Anaconda3\\envs\\Graph_ML\\lib\\site-packages\\gem\\embedding\\sdne_utils.py:90: UserWarning: Update your `Dense` call to the Keras 2 API: `Dense(15, activation=\"relu\", kernel_regularizer=<keras.reg...)`\n",
      "  W_regularizer=Reg.l1_l2(l1=nu1, l2=nu2))(y_hat[i + 1])\n",
      "C:\\ProgramData\\Anaconda3\\envs\\Graph_ML\\lib\\site-packages\\gem\\embedding\\sdne_utils.py:90: UserWarning: Update your `Dense` call to the Keras 2 API: `Dense(50, activation=\"relu\", kernel_regularizer=<keras.reg...)`\n",
      "  W_regularizer=Reg.l1_l2(l1=nu1, l2=nu2))(y_hat[i + 1])\n",
      "C:\\ProgramData\\Anaconda3\\envs\\Graph_ML\\lib\\site-packages\\gem\\embedding\\sdne_utils.py:92: UserWarning: Update your `Dense` call to the Keras 2 API: `Dense(34, activation=\"relu\", kernel_regularizer=<keras.reg...)`\n",
      "  W_regularizer=Reg.l1_l2(l1=nu1, l2=nu2))(y_hat[1])\n",
      "C:\\ProgramData\\Anaconda3\\envs\\Graph_ML\\lib\\site-packages\\gem\\embedding\\sdne_utils.py:96: UserWarning: Update your `Model` call to the Keras 2 API: `Model(inputs=Tensor(\"in..., outputs=Tensor(\"de...)`\n",
      "  decoder = Model(input=y, output=x_hat)\n",
      "C:\\ProgramData\\Anaconda3\\envs\\Graph_ML\\lib\\site-packages\\gem\\embedding\\sdne_utils.py:108: UserWarning: Update your `Model` call to the Keras 2 API: `Model(inputs=Tensor(\"in..., outputs=[<tf.Tenso...)`\n",
      "  autoencoder = Model(input=x, output=[x_hat, y])\n",
      "C:\\ProgramData\\Anaconda3\\envs\\Graph_ML\\lib\\site-packages\\gem\\embedding\\sdne.py:115: UserWarning: The `merge` function is deprecated and will be removed after 08/2017. Use instead layers from `keras.layers.merge`, e.g. `add`, `concatenate`, etc.\n",
      "  output_shape=lambda L: L[1])\n",
      "C:\\ProgramData\\Anaconda3\\envs\\Graph_ML\\lib\\site-packages\\keras\\legacy\\layers.py:456: UserWarning: The `Merge` layer is deprecated and will be removed after 08/2017. Use instead layers from `keras.layers.merge`, e.g. `add`, `concatenate`, etc.\n",
      "  name=name)\n",
      "C:\\ProgramData\\Anaconda3\\envs\\Graph_ML\\lib\\site-packages\\gem\\embedding\\sdne.py:118: UserWarning: The `merge` function is deprecated and will be removed after 08/2017. Use instead layers from `keras.layers.merge`, e.g. `add`, `concatenate`, etc.\n",
      "  output_shape=lambda L: L[1])\n",
      "C:\\ProgramData\\Anaconda3\\envs\\Graph_ML\\lib\\site-packages\\gem\\embedding\\sdne.py:121: UserWarning: The `merge` function is deprecated and will be removed after 08/2017. Use instead layers from `keras.layers.merge`, e.g. `add`, `concatenate`, etc.\n",
      "  output_shape=lambda L: L[1])\n",
      "C:\\ProgramData\\Anaconda3\\envs\\Graph_ML\\lib\\site-packages\\gem\\embedding\\sdne.py:147: UserWarning: Update your `Model` call to the Keras 2 API: `Model(inputs=Tensor(\"x_..., outputs=[<tf.Tenso...)`\n",
      "  self._model = Model(input=x_in, output=[x_diff1, x_diff2, y_diff])\n",
      "C:\\ProgramData\\Anaconda3\\envs\\Graph_ML\\lib\\site-packages\\gem\\embedding\\sdne.py:160: UserWarning: The semantics of the Keras 2 argument  `steps_per_epoch` is not the same as the Keras 1 argument `samples_per_epoch`. `steps_per_epoch` is the number of batches to draw from the generator at each epoch. Update your method calls accordingly.\n",
      "  verbose=1\n",
      "C:\\ProgramData\\Anaconda3\\envs\\Graph_ML\\lib\\site-packages\\gem\\embedding\\sdne.py:160: UserWarning: Update your `fit_generator` call to the Keras 2 API: `fit_generator(generator=<generator..., verbose=1, steps_per_epoch=1, epochs=50)`\n",
      "  verbose=1\n"
     ]
    },
    {
     "name": "stdout",
     "output_type": "stream",
     "text": [
      "Epoch 1/50\n",
      "1/1 [==============================] - 0s - loss: 49.7843 - merge_4_loss: 24.9090 - merge_5_loss: 24.8711 - merge_6_loss: 0.0183\n",
      "Epoch 2/50\n",
      "1/1 [==============================] - 0s - loss: 46.7015 - merge_4_loss: 23.4557 - merge_5_loss: 23.2417 - merge_6_loss: 0.0459\n",
      "Epoch 3/50\n",
      "1/1 [==============================] - 0s - loss: 37.5244 - merge_4_loss: 18.9985 - merge_5_loss: 18.5218 - merge_6_loss: 0.0921\n",
      "Epoch 4/50\n",
      "1/1 [==============================] - 0s - loss: 29.3531 - merge_4_loss: 14.6388 - merge_5_loss: 14.7102 - merge_6_loss: 0.1634\n",
      "Epoch 5/50\n",
      "1/1 [==============================] - 0s - loss: 27.8811 - merge_4_loss: 13.8642 - merge_5_loss: 14.0127 - merge_6_loss: 0.2707\n",
      "Epoch 6/50\n",
      "1/1 [==============================] - 0s - loss: 26.6457 - merge_4_loss: 13.4879 - merge_5_loss: 13.1536 - merge_6_loss: 0.3847\n",
      "Epoch 7/50\n",
      "1/1 [==============================] - 0s - loss: 26.2754 - merge_4_loss: 13.2820 - merge_5_loss: 12.9892 - merge_6_loss: 0.3952\n",
      "Epoch 8/50\n",
      "1/1 [==============================] - 0s - loss: 25.9743 - merge_4_loss: 12.9181 - merge_5_loss: 13.0520 - merge_6_loss: 0.4195\n",
      "Epoch 9/50\n",
      "1/1 [==============================] - 0s - loss: 25.0878 - merge_4_loss: 12.6548 - merge_5_loss: 12.4288 - merge_6_loss: 0.4425\n",
      "Epoch 10/50\n",
      "1/1 [==============================] - 0s - loss: 23.9910 - merge_4_loss: 11.6761 - merge_5_loss: 12.3107 - merge_6_loss: 0.4491\n",
      "Epoch 11/50\n",
      "1/1 [==============================] - 0s - loss: 24.5088 - merge_4_loss: 12.0679 - merge_5_loss: 12.4367 - merge_6_loss: 0.3065\n",
      "Epoch 12/50\n",
      "1/1 [==============================] - 0s - loss: 23.5252 - merge_4_loss: 11.6603 - merge_5_loss: 11.8608 - merge_6_loss: 0.4455\n",
      "Epoch 13/50\n",
      "1/1 [==============================] - 0s - loss: 23.0672 - merge_4_loss: 11.5144 - merge_5_loss: 11.5488 - merge_6_loss: 0.5998\n",
      "Epoch 14/50\n",
      "1/1 [==============================] - 0s - loss: 23.1112 - merge_4_loss: 11.2672 - merge_5_loss: 11.8398 - merge_6_loss: 0.8572\n",
      "Epoch 15/50\n",
      "1/1 [==============================] - 0s - loss: 21.4270 - merge_4_loss: 10.5156 - merge_5_loss: 10.9073 - merge_6_loss: 1.1450\n",
      "Epoch 16/50\n",
      "1/1 [==============================] - 0s - loss: 20.3071 - merge_4_loss: 10.2253 - merge_5_loss: 10.0777 - merge_6_loss: 1.6995\n",
      "Epoch 17/50\n",
      "1/1 [==============================] - 0s - loss: 19.4725 - merge_4_loss: 9.8575 - merge_5_loss: 9.6109 - merge_6_loss: 1.8107\n",
      "Epoch 18/50\n",
      "1/1 [==============================] - 0s - loss: 19.2419 - merge_4_loss: 9.1893 - merge_5_loss: 10.0485 - merge_6_loss: 2.7237\n",
      "Epoch 19/50\n",
      "1/1 [==============================] - 0s - loss: 20.1809 - merge_4_loss: 9.9238 - merge_5_loss: 10.2529 - merge_6_loss: 2.3639\n",
      "Epoch 20/50\n",
      "1/1 [==============================] - 0s - loss: 19.3859 - merge_4_loss: 9.7156 - merge_5_loss: 9.6661 - merge_6_loss: 3.0944\n",
      "Epoch 21/50\n",
      "1/1 [==============================] - 0s - loss: 19.1587 - merge_4_loss: 9.7187 - merge_5_loss: 9.4357 - merge_6_loss: 3.9662\n",
      "Epoch 22/50\n",
      "1/1 [==============================] - 0s - loss: 18.2900 - merge_4_loss: 9.2901 - merge_5_loss: 8.9956 - merge_6_loss: 3.9389\n",
      "Epoch 23/50\n",
      "1/1 [==============================] - 0s - loss: 16.8517 - merge_4_loss: 8.2570 - merge_5_loss: 8.5904 - merge_6_loss: 4.1106\n",
      "Epoch 24/50\n",
      "1/1 [==============================] - 0s - loss: 16.3034 - merge_4_loss: 8.1277 - merge_5_loss: 8.1714 - merge_6_loss: 4.1235\n",
      "Epoch 25/50\n",
      "1/1 [==============================] - 0s - loss: 14.9947 - merge_4_loss: 7.7398 - merge_5_loss: 7.2505 - merge_6_loss: 3.6632\n",
      "Epoch 26/50\n",
      "1/1 [==============================] - 0s - loss: 15.2872 - merge_4_loss: 7.4914 - merge_5_loss: 7.7915 - merge_6_loss: 3.2054\n",
      "Epoch 27/50\n",
      "1/1 [==============================] - 0s - loss: 14.8604 - merge_4_loss: 7.5524 - merge_5_loss: 7.3036 - merge_6_loss: 2.9392\n",
      "Epoch 28/50\n",
      "1/1 [==============================] - 0s - loss: 10.8643 - merge_4_loss: 5.2950 - merge_5_loss: 5.5649 - merge_6_loss: 3.2174\n",
      "Epoch 29/50\n",
      "1/1 [==============================] - 0s - loss: 10.4076 - merge_4_loss: 5.1869 - merge_5_loss: 5.2163 - merge_6_loss: 3.3306\n",
      "Epoch 30/50\n",
      "1/1 [==============================] - 0s - loss: 10.7348 - merge_4_loss: 5.2408 - merge_5_loss: 5.4896 - merge_6_loss: 2.8700\n",
      "Epoch 31/50\n",
      "1/1 [==============================] - 0s - loss: 10.7746 - merge_4_loss: 5.3440 - merge_5_loss: 5.4261 - merge_6_loss: 3.5462\n",
      "Epoch 32/50\n",
      "1/1 [==============================] - 0s - loss: 11.4716 - merge_4_loss: 5.8817 - merge_5_loss: 5.5854 - merge_6_loss: 2.1902\n",
      "Epoch 33/50\n",
      "1/1 [==============================] - 0s - loss: 10.8531 - merge_4_loss: 5.4828 - merge_5_loss: 5.3658 - merge_6_loss: 2.6707\n",
      "Epoch 34/50\n",
      "1/1 [==============================] - 0s - loss: 10.5920 - merge_4_loss: 5.2685 - merge_5_loss: 5.3189 - merge_6_loss: 2.1231\n",
      "Epoch 35/50\n",
      "1/1 [==============================] - 0s - loss: 11.0188 - merge_4_loss: 5.5676 - merge_5_loss: 5.4466 - merge_6_loss: 2.4498\n",
      "Epoch 36/50\n",
      "1/1 [==============================] - 0s - loss: 12.0834 - merge_4_loss: 6.0129 - merge_5_loss: 6.0658 - merge_6_loss: 1.5201\n",
      "Epoch 37/50\n",
      "1/1 [==============================] - 0s - loss: 12.5269 - merge_4_loss: 6.1015 - merge_5_loss: 6.4207 - merge_6_loss: 2.2591\n",
      "Epoch 38/50\n",
      "1/1 [==============================] - 0s - loss: 10.8202 - merge_4_loss: 5.3783 - merge_5_loss: 5.4372 - merge_6_loss: 1.7440\n",
      "Epoch 39/50\n",
      "1/1 [==============================] - 0s - loss: 9.6201 - merge_4_loss: 4.7511 - merge_5_loss: 4.8642 - merge_6_loss: 1.6971\n",
      "Epoch 40/50\n",
      "1/1 [==============================] - 0s - loss: 9.6352 - merge_4_loss: 4.6039 - merge_5_loss: 5.0265 - merge_6_loss: 1.5133\n",
      "Epoch 41/50\n",
      "1/1 [==============================] - 0s - loss: 8.7460 - merge_4_loss: 4.4271 - merge_5_loss: 4.3140 - merge_6_loss: 1.4814\n",
      "Epoch 42/50\n",
      "1/1 [==============================] - 0s - loss: 7.7849 - merge_4_loss: 3.7962 - merge_5_loss: 3.9838 - merge_6_loss: 1.5100\n",
      "Epoch 43/50\n",
      "1/1 [==============================] - 0s - loss: 8.2875 - merge_4_loss: 4.1393 - merge_5_loss: 4.1432 - merge_6_loss: 1.3441\n",
      "Epoch 44/50\n",
      "1/1 [==============================] - 0s - loss: 8.4196 - merge_4_loss: 4.1744 - merge_5_loss: 4.2402 - merge_6_loss: 1.1747\n",
      "Epoch 45/50\n",
      "1/1 [==============================] - 0s - loss: 8.1431 - merge_4_loss: 4.1073 - merge_5_loss: 4.0308 - merge_6_loss: 1.1388\n",
      "Epoch 46/50\n",
      "1/1 [==============================] - 0s - loss: 7.9940 - merge_4_loss: 3.8479 - merge_5_loss: 4.1410 - merge_6_loss: 1.0050\n",
      "Epoch 47/50\n",
      "1/1 [==============================] - 0s - loss: 8.5348 - merge_4_loss: 4.2285 - merge_5_loss: 4.3010 - merge_6_loss: 1.0402\n",
      "Epoch 48/50\n",
      "1/1 [==============================] - 0s - loss: 8.2271 - merge_4_loss: 4.1363 - merge_5_loss: 4.0856 - merge_6_loss: 0.9104\n",
      "Epoch 49/50\n",
      "1/1 [==============================] - 0s - loss: 8.5213 - merge_4_loss: 4.2666 - merge_5_loss: 4.2494 - merge_6_loss: 0.9201\n",
      "Epoch 50/50\n",
      "1/1 [==============================] - 0s - loss: 7.8852 - merge_4_loss: 3.9713 - merge_5_loss: 3.9085 - merge_6_loss: 0.8802\n"
     ]
    },
    {
     "data": {
      "text/plain": [
       "(array([[0.4934343 , 0.        ],\n",
       "        [1.0291077 , 0.        ],\n",
       "        [1.0243468 , 0.        ],\n",
       "        [0.06386101, 0.        ],\n",
       "        [0.        , 0.        ],\n",
       "        [0.        , 0.        ],\n",
       "        [0.        , 0.13274527],\n",
       "        [0.        , 0.        ],\n",
       "        [1.0568342 , 0.        ],\n",
       "        [0.63774234, 0.        ],\n",
       "        [0.        , 0.        ],\n",
       "        [0.20532945, 0.        ],\n",
       "        [0.01661427, 0.        ],\n",
       "        [0.        , 0.        ],\n",
       "        [0.8598942 , 0.        ],\n",
       "        [0.8598942 , 0.        ],\n",
       "        [0.        , 0.16096507],\n",
       "        [0.        , 0.        ],\n",
       "        [0.8598942 , 0.        ],\n",
       "        [0.        , 0.        ],\n",
       "        [0.8598942 , 0.        ],\n",
       "        [0.        , 0.        ],\n",
       "        [0.8598942 , 0.        ],\n",
       "        [1.5189229 , 0.        ],\n",
       "        [1.0808198 , 0.        ],\n",
       "        [1.2169496 , 0.04829856],\n",
       "        [0.7316502 , 0.07214022],\n",
       "        [1.374097  , 0.06759309],\n",
       "        [0.93488765, 0.07208436],\n",
       "        [1.7944201 , 0.24051481],\n",
       "        [0.6236758 , 0.        ],\n",
       "        [1.22496   , 0.        ],\n",
       "        [2.0184467 , 0.43184847],\n",
       "        [2.2086666 , 0.        ]], dtype=float32),\n",
       " 1.2549538612365723)"
      ]
     },
     "execution_count": 7,
     "metadata": {},
     "output_type": "execute_result"
    }
   ],
   "source": [
    "m1.learn_embedding(graph)"
   ]
  },
  {
   "cell_type": "code",
   "execution_count": 8,
   "metadata": {},
   "outputs": [],
   "source": [
    "x, y = list(zip(*m1.get_embedding()))"
   ]
  },
  {
   "cell_type": "code",
   "execution_count": 11,
   "metadata": {},
   "outputs": [],
   "source": [
    "import matplotlib\n",
    "from matplotlib import pyplot as plt\n",
    "# plt.style.use('ggplot')\n",
    "matplotlib.use( 'tkagg' )"
   ]
  },
  {
   "cell_type": "code",
   "execution_count": 12,
   "metadata": {
    "scrolled": true
   },
   "outputs": [],
   "source": [
    "plt.figure(figsize=(6, 4))\n",
    "plt.plot(x, y, 'o', linewidth=None)\n",
    "plt.show()"
   ]
  }
 ],
 "metadata": {
  "kernelspec": {
   "display_name": "Graph_ML",
   "language": "python",
   "name": "graph_ml"
  },
  "language_info": {
   "codemirror_mode": {
    "name": "ipython",
    "version": 3
   },
   "file_extension": ".py",
   "mimetype": "text/x-python",
   "name": "python",
   "nbconvert_exporter": "python",
   "pygments_lexer": "ipython3",
   "version": "3.7.13"
  }
 },
 "nbformat": 4,
 "nbformat_minor": 4
}
